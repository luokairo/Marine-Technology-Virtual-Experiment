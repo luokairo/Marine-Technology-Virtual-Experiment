{
 "cells": [
  {
   "cell_type": "markdown",
   "id": "bc5f3cdb",
   "metadata": {},
   "source": [
    "# 海流载荷计算\n",
    "#\n",
    "### 先左侧的第三个拉动它的进度条，让它下面变成下面打印出来的第三个吃水深度，如1.02"
   ]
  },
  {
   "cell_type": "markdown",
   "id": "d0532aad",
   "metadata": {},
   "source": [
    "### 参数可能需要修改，注意一下流速和系数"
   ]
  },
  {
   "cell_type": "code",
   "execution_count": 1,
   "id": "681e1278",
   "metadata": {},
   "outputs": [
    {
     "name": "stdout",
     "output_type": "stream",
     "text": [
      "底板直径：0m，吃水深度：1.78m\n",
      "迎流面积 A = 8.90000000000000 m^2\n",
      "海流作用力 F = 67050.3750000000 N\n",
      "\n",
      "\n",
      "底板直径：10m，吃水深度：0.6m\n",
      "迎流面积 A = 6.0 m^2\n",
      "海流作用力 F = 45202.5 N\n",
      "\n",
      "\n",
      "底板直径：5m，吃水深度：1.02m\n",
      "迎流面积 A = 7.65000000000000 m^2\n",
      "海流作用力 F = 57633.1875000000 N\n",
      "\n",
      "\n"
     ]
    }
   ],
   "source": [
    "import sympy as sp\n",
    "\n",
    "# 参数\n",
    "rho_water = 1025  # 海水密度 (kg/m^3)\n",
    "V_water = 3.5  # 海流流速 (m/s)\n",
    "C_drag = 1.2  # 曳力系数\n",
    "diameters = [0, 10, 5]\n",
    "drafts = [1.78, 0.6, 1.02]\n",
    "for diameter, draft in zip(diameters, drafts):\n",
    "    if diameter == 0:\n",
    "        # 倒圆锥体，迎流面积为倒三角形\n",
    "        A = sp.Rational(1, 2) * draft * 10\n",
    "    elif diameter == 10:\n",
    "        # 圆柱体，迎流面积为矩形\n",
    "        A = 10 * draft\n",
    "    else:\n",
    "        # 倒圆台体，迎流面积为梯形\n",
    "        A = sp.Rational(1, 2) * (10 + diameter) * draft\n",
    "    F = 0.5 * rho_water * C_drag * A * V_water**2\n",
    "    print(f\"底板直径：{diameter}m，吃水深度：{draft}m\")\n",
    "    print(f\"迎流面积 A = {A} m^2\")\n",
    "    print(f\"海流作用力 F = {F} N\")\n",
    "    print(\"\\n\")"
   ]
  },
  {
   "cell_type": "markdown",
   "id": "0b1b7c23",
   "metadata": {},
   "source": [
    "# 波浪载荷计算\n",
    "### 需要改参数"
   ]
  },
  {
   "cell_type": "code",
   "execution_count": 2,
   "id": "f591eb45",
   "metadata": {},
   "outputs": [
    {
     "name": "stdout",
     "output_type": "stream",
     "text": [
      "水平波浪作用力 F_wave = 39.36901704986638 N\n"
     ]
    }
   ],
   "source": [
    "# 参数\n",
    "H = 12.34  # 波高（单位：米）\n",
    "T = 34.38  # 波浪周期（单位：秒）\n",
    "F_wave = 361200 * (H**2) / (T**4)\n",
    "print(f\"水平波浪作用力 F_wave = {F_wave} N\")\n"
   ]
  },
  {
   "cell_type": "markdown",
   "id": "ce17e313",
   "metadata": {},
   "source": [
    "# 风载荷计算\n",
    "## 这个不用算的哈，可以用之前的填\n"
   ]
  },
  {
   "cell_type": "code",
   "execution_count": null,
   "id": "0fcf5e9c",
   "metadata": {},
   "outputs": [],
   "source": [
    "# 数据截图的图片我放在在压缩包里了，直接按上面填就好"
   ]
  },
  {
   "cell_type": "markdown",
   "id": "5033ea29",
   "metadata": {},
   "source": [
    "# 锚泊系统计算\n",
    "## 这个直接乘4就行，50的话就填200；52的话就填208"
   ]
  },
  {
   "cell_type": "code",
   "execution_count": null,
   "id": "4102c15d",
   "metadata": {},
   "outputs": [],
   "source": []
  }
 ],
 "metadata": {
  "kernelspec": {
   "display_name": "Python (blip)",
   "language": "python",
   "name": "blip"
  },
  "language_info": {
   "codemirror_mode": {
    "name": "ipython",
    "version": 3
   },
   "file_extension": ".py",
   "mimetype": "text/x-python",
   "name": "python",
   "nbconvert_exporter": "python",
   "pygments_lexer": "ipython3",
   "version": "3.8.20"
  }
 },
 "nbformat": 4,
 "nbformat_minor": 5
}
