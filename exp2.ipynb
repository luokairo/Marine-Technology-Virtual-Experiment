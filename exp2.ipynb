{
 "cells": [
  {
   "cell_type": "markdown",
   "id": "ef40c7bb",
   "metadata": {},
   "source": [
    "# 浮球"
   ]
  },
  {
   "cell_type": "markdown",
   "id": "15146662",
   "metadata": {},
   "source": [
    "## 检查数据，这里的数据随机的会比较多\n",
    "### 如果角度为负就➕180"
   ]
  },
  {
   "cell_type": "code",
   "execution_count": 1,
   "id": "e535b530",
   "metadata": {},
   "outputs": [
    {
     "name": "stdout",
     "output_type": "stream",
     "text": [
      "主浮体的绕流阻力 R = 216.34394664959999 N\n",
      "浮球下部缆与竖直方向夹角 alpha = -168.25°\n",
      "浮球下部缆的拖拽力 T = 1062.26 N\n"
     ]
    }
   ],
   "source": [
    "import sympy as sp\n",
    "\n",
    "# 数据\n",
    "V = 1.2  # 海流速度 (m/s)\n",
    "rho = 1025  # 海水密度 (kg/m^3)\n",
    "C_sphere = 0.5  # 浮球阻力系数\n",
    "r_sphere = 0.216  # 单个浮球半径 (m)\n",
    "n = 4  # 浮球数量\n",
    "F = 480 * n  # n个浮球所受总浮力 (N)\n",
    "W = 220 * n  # n个浮球在水中总重力 (N)\n",
    "R = 0.5 * rho * C_sphere * 3.1416 * r_sphere**2 * V**2 * n\n",
    "print(\"主浮体的绕流阻力 R =\", R, \"N\")\n",
    "\n",
    "alpha, T = sp.symbols('alpha T')\n",
    "equation1 = sp.Eq(T * sp.cos(alpha), F - W)\n",
    "equation2 = sp.Eq(T * sp.sin(alpha), R)\n",
    "solution = sp.solve([equation1, equation2], (alpha, T))\n",
    "# 提取解\n",
    "if solution:\n",
    "    alpha_rad = solution[0][0]  # 提取 alpha 的值（弧度）\n",
    "    T_value = abs(solution[0][1])    # 提取 T 的值\n",
    "    alpha_deg = sp.deg(alpha_rad)  # 将弧度转换为角度\n",
    "\n",
    "    print(f\"浮球下部缆与竖直方向夹角 alpha = {alpha_deg.evalf():.2f}°\")\n",
    "    print(f\"浮球下部缆的拖拽力 T = {T_value.evalf():.2f} N\")\n",
    "else:\n",
    "    print(\"方程组无解，请检查输入参数。\")"
   ]
  },
  {
   "cell_type": "markdown",
   "id": "20c6229b",
   "metadata": {},
   "source": [
    "# 传感器"
   ]
  },
  {
   "cell_type": "markdown",
   "id": "8ccca561",
   "metadata": {},
   "source": [
    "## 还是一样要检查参数，重点是流速"
   ]
  },
  {
   "cell_type": "code",
   "execution_count": 2,
   "id": "2f367183",
   "metadata": {},
   "outputs": [],
   "source": [
    "# 给定参数\n",
    "rho_water = 1025  # 海水密度 (kg/m^3)\n",
    "C_sensor = 1  # 传感器包阻力系数\n",
    "A_sensor = 0.5  # 传感器包迎流面积 (m^2)\n",
    "V_water = 1.2  # 海流流速 (m/s)\n",
    "B_sensor = 1800  # 传感器包浮力 (N)\n",
    "W_sensor = 1000  # 传感器包重力 (N)\n",
    "# 计算传感器包的绕流阻力 R_sensor\n",
    "R_sensor = 0.5 * rho_water * C_sensor * A_sensor * V_water**2\n"
   ]
  },
  {
   "cell_type": "markdown",
   "id": "e93bf7ac",
   "metadata": {},
   "source": [
    "## 这里需要输入上面求得的一个值，作为给定的张力和夹角\n",
    "# 需要等待一下它计算，会打印出方程的解，实数解为需要的拖曳力和夹角\n",
    "## 如[(-2054.78622603239, -153.567544937967), (2054.78622603239, 26.4324550620329)]\n",
    "## 拖曳力为2054.78，夹角为26.43"
   ]
  },
  {
   "cell_type": "code",
   "execution_count": 3,
   "id": "7b24a044",
   "metadata": {},
   "outputs": [
    {
     "name": "stdout",
     "output_type": "stream",
     "text": [
      "给定的传感器包上端张力 T_upper = 1062.26 N\n",
      "给定的传感器包上部缆与竖直方向夹角 phi_upper = 11.75 °\n",
      "传感器的绕流阻力 369.0\n",
      "传感器包下部缆拖曳力 T_lower = [(-1930.85555556292, -162.353674141009), (1930.85555556292, 17.6463258589913)] N\n",
      "传感器包下部缆与竖直方向夹角 phi_lower = [(-1930.85555556292, -162.353674141009), (1930.85555556292, 17.6463258589913)] °\n"
     ]
    }
   ],
   "source": [
    "# 给定传感器包上端张力和夹角\n",
    "T_upper_given = 1062.26  # 你给定的传感器包上端张力 (N)\n",
    "phi_upper_given = 11.75  # 你给定的传感器包上部缆与竖直方向夹角 (degrees)\n",
    "\n",
    "# 打印给定的参数\n",
    "print(\"给定的传感器包上端张力 T_upper =\", T_upper_given, \"N\")\n",
    "print(\"给定的传感器包上部缆与竖直方向夹角 phi_upper =\", phi_upper_given, \"°\")\n",
    "# 计算传感器包下部缆拖曳力和夹角\n",
    "T_lower, phi_lower = sp.symbols(' T_lower phi_lower')\n",
    "equation1 = sp.Eq(B_sensor - W_sensor + T_upper_given * sp.cos(sp.rad(phi_upper_given)) - T_lower * sp.cos(sp.rad(phi_lower)), 0)\n",
    "equation2 = sp.Eq(R_sensor + T_upper_given * sp.sin(sp.rad(phi_upper_given)) - T_lower * sp.sin(sp.rad(phi_lower)), 0)\n",
    "solution = sp.solve([equation1, equation2], ( T_lower, phi_lower))\n",
    "#alpha_deg = sp.deg(solution[alpha])\n",
    "print(\"传感器的绕流阻力\",R_sensor)\n",
    "print(\"传感器包下部缆拖曳力 T_lower =\", solution, \"N\")\n",
    "print(\"传感器包下部缆与竖直方向夹角 phi_lower =\", solution, \"°\")\n",
    "\n"
   ]
  },
  {
   "cell_type": "markdown",
   "id": "734c5ee3",
   "metadata": {},
   "source": [
    "# 配重"
   ]
  },
  {
   "cell_type": "code",
   "execution_count": 4,
   "id": "f55fcde5",
   "metadata": {},
   "outputs": [
    {
     "name": "stdout",
     "output_type": "stream",
     "text": [
      "配重重量 M' = 81.63265306122446 kg\n"
     ]
    }
   ],
   "source": [
    "# 参数\n",
    "f = 480  # 单个浮球浮力 (N)\n",
    "W_ball = 220  # 单个浮球重量 (N)\n",
    "n = 4  # 浮球数量\n",
    "B_sensor = 1800  # 传感器包浮力 (N)\n",
    "W_sensor = 1000  # 传感器包水中自身重力 (N)\n",
    "g = 9.8  # 重力加速度 (m/s^2)\n",
    "M0=200 #海基初始重量\n",
    "# 计算配重重量 M'\n",
    "M_prime = (((f - W_ball) * n + (B_sensor - W_sensor)) / g) * 1.5\n",
    "M=M_prime-M0\n",
    "print(\"配重重量 M' =\", M, \"kg\")"
   ]
  },
  {
   "cell_type": "markdown",
   "id": "763d0225",
   "metadata": {},
   "source": [
    "# 优化设计\n",
    "### 看前一题算出来的是不是大于它给出来的角度，如果没有就不用改(做了好几次只有一次需要改成2)\n",
    "### 不改的话就还天4 和81.63，如果要改的话就把上面的配重部分再来一遍"
   ]
  },
  {
   "cell_type": "code",
   "execution_count": null,
   "id": "0caa4baa",
   "metadata": {},
   "outputs": [],
   "source": []
  },
  {
   "cell_type": "code",
   "execution_count": null,
   "id": "b2d26bf9",
   "metadata": {},
   "outputs": [],
   "source": []
  }
 ],
 "metadata": {
  "kernelspec": {
   "display_name": "Python (blip)",
   "language": "python",
   "name": "blip"
  },
  "language_info": {
   "codemirror_mode": {
    "name": "ipython",
    "version": 3
   },
   "file_extension": ".py",
   "mimetype": "text/x-python",
   "name": "python",
   "nbconvert_exporter": "python",
   "pygments_lexer": "ipython3",
   "version": "3.8.20"
  }
 },
 "nbformat": 4,
 "nbformat_minor": 5
}
