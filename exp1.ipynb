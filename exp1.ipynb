{
 "cells": [
  {
   "cell_type": "markdown",
   "id": "04786393",
   "metadata": {},
   "source": [
    "# 海流作用力与翻转力矩"
   ]
  },
  {
   "cell_type": "code",
   "execution_count": 1,
   "id": "d68c5bff",
   "metadata": {},
   "outputs": [],
   "source": [
    "import numpy as np\n",
    "from scipy.integrate import quad\n",
    "\n",
    "# 常量定义\n",
    "rho = 1025  # 海水的质量密度（kg/m^3）\n",
    "Cd = 1.05  # 阻力系数\n",
    "A_y = 0.06  # 平行于y轴的结构件单位长度的投影面积（m^2/m）\n",
    "A_z = 0.06  # 平行于z轴的结构件单位长度的投影面积（m^2/m）\n",
    "L_y_values = [2.06, 2.9, 2.9]  # 平行于y轴的结构件水平方向的长度（m）\n",
    "z_positions = [1.0, 1.7, 2.2]  # 平行于y轴的结构件距底的位置（m）\n",
    "F_Dy_total = 0\n",
    "M_tilt_y_total=0"
   ]
  },
  {
   "cell_type": "markdown",
   "id": "e38ddaf4",
   "metadata": {},
   "source": [
    "### 修改海流流速和平均水深"
   ]
  },
  {
   "cell_type": "code",
   "execution_count": 2,
   "id": "ecc6ef9a",
   "metadata": {},
   "outputs": [],
   "source": [
    "u_cs = 2.0  # 海面的海流速度（m/s）\n",
    "h = 50  # 平均水深（m）"
   ]
  },
  {
   "cell_type": "code",
   "execution_count": 3,
   "id": "a1cf7f22",
   "metadata": {},
   "outputs": [
    {
     "name": "stdout",
     "output_type": "stream",
     "text": [
      "平行于y轴的结构件受力（N）: 765.9326601502564\n",
      "平行于z轴的结构件受力（N）: 362.1159576685858\n",
      "平台总受力（N）: 1128.048617818842\n",
      "平行于y轴的结构件受力产生的翻转力矩（Nm）: 1333.7082478940076\n",
      "平行于z轴的结构件受力产生的翻转力矩（Nm）: 796.6551068708889\n",
      "平台总的翻转力矩（Nm）: 2130.3633547648965\n"
     ]
    }
   ],
   "source": [
    "for i, z in enumerate(z_positions):\n",
    "    ucz = u_cs * (z / h)**(1/7)  # 计算流速\n",
    "    L_y = L_y_values[i]  # 取得对应位置的结构件水平方向的长度\n",
    "    F_Dy = 0.5 * rho * Cd * A_y * ucz**2 * L_y  # 计算受力\n",
    "    # 考虑前后两根结构件\n",
    "    F_Dy_total += 2 * F_Dy\n",
    "    M_tilt_y = F_Dy * z  # 计算翻转力矩\n",
    "    M_tilt_y_total += 2 * M_tilt_y\n",
    "# 计算平行于z轴的结构件受力的积分函数\n",
    "def integrand(z):\n",
    "    ucz = u_cs * (z / h)**(1/7)\n",
    "    return 0.5 * rho * Cd * A_z * ucz**2\n",
    "F_Dz_total, _ = quad(integrand, 0, 2.2)\n",
    "M_tilt_z, _ = quad(lambda z: F_Dz_total, 0, 2.2)\n",
    "# 乘以支腿数量\n",
    "num_legs = 4  # 假设有4根支腿\n",
    "F_Dz_total *= num_legs\n",
    "M_tilt_z_total = num_legs*M_tilt_z\n",
    "F_D_total = F_Dy_total + F_Dz_total\n",
    "M_tilt_total = M_tilt_y_total + M_tilt_z_total\n",
    "print(\"平行于y轴的结构件受力（N）:\", F_Dy_total)\n",
    "print(\"平行于z轴的结构件受力（N）:\", F_Dz_total)\n",
    "print(\"平台总受力（N）:\", F_D_total)\n",
    "print(\"平行于y轴的结构件受力产生的翻转力矩（Nm）:\", M_tilt_y_total)\n",
    "print(\"平行于z轴的结构件受力产生的翻转力矩（Nm）:\", M_tilt_z_total)\n",
    "print(\"平台总的翻转力矩（Nm）:\", M_tilt_total)"
   ]
  },
  {
   "cell_type": "markdown",
   "id": "d9e2f87d",
   "metadata": {},
   "source": [
    "# 平台配载"
   ]
  },
  {
   "cell_type": "markdown",
   "id": "e42f5f56",
   "metadata": {},
   "source": [
    "## 序号1-4全填0(有时候会错，但是整体能保证90分)，重力抗翻转力矩如下"
   ]
  },
  {
   "cell_type": "code",
   "execution_count": 4,
   "id": "fd02dd8f",
   "metadata": {},
   "outputs": [
    {
     "name": "stdout",
     "output_type": "stream",
     "text": [
      "重力抗翻转力矩 MG = 13122.200000000003 Nm\n"
     ]
    }
   ],
   "source": [
    "# 常量定义\n",
    "g = 9.8  # 重力加速度 (m/s^2)\n",
    "L = 1.03  # 重力的恢复力臂 (m)\n",
    "M = 1300  # 平台总质量kg\n",
    "MG = M * g * L\n",
    "print(\"重力抗翻转力矩 MG =\", MG, \"Nm\")"
   ]
  },
  {
   "cell_type": "markdown",
   "id": "1c16ddcb",
   "metadata": {},
   "source": [
    "# 防沉板配置"
   ]
  },
  {
   "cell_type": "markdown",
   "id": "4e7769f2",
   "metadata": {},
   "source": [
    "## 1-8全填0"
   ]
  },
  {
   "cell_type": "markdown",
   "id": "0de5bdb7",
   "metadata": {},
   "source": [
    "### 输入抗剪强度"
   ]
  },
  {
   "cell_type": "code",
   "execution_count": 5,
   "id": "cfea366c",
   "metadata": {},
   "outputs": [],
   "source": [
    "Shear_strength = 3.3"
   ]
  },
  {
   "cell_type": "code",
   "execution_count": 6,
   "id": "e6a6f73c",
   "metadata": {},
   "outputs": [],
   "source": [
    "if Shear_strength == 0.8:\n",
    "    C = 800  # 沉积物抗剪强度 (Pa)，将kPa转换为Pa\n",
    "    gamma1 = 3800  # 土的有效重度 (N/m^3)，将kN/m^3转换为N/m^3\n",
    "elif Shear_strength == 3.3:\n",
    "    C = 3300  # 沉积物抗剪强度 (Pa)，将kPa转换为Pa\n",
    "    gamma1 = 5500  # 土的有效重度 (N/m^3)，将kN/m^3转换为N/m^3"
   ]
  },
  {
   "cell_type": "code",
   "execution_count": 7,
   "id": "1567eb2f",
   "metadata": {},
   "outputs": [
    {
     "name": "stdout",
     "output_type": "stream",
     "text": [
      "总承载力: 45019.293800539075 N\n"
     ]
    }
   ],
   "source": [
    "H = 0.06  # 平台底面被覆土平均厚度 (m)\n",
    "# 固定防沉板参数\n",
    "B1_fixed = 0.56  # 固定防沉板接触面宽度 (m)\n",
    "L1_fixed = 0.56  # 固定防沉板接触面长度 (m)\n",
    "S_fixed = 0.3  # 固定防沉板接触面积 (m^2)\n",
    "# 中间仪器固定板参数\n",
    "B1_instrument = 1.06  # 中间仪器固定板接触面宽度 (m)\n",
    "L1_instrument = 1.06  # 中间仪器固定板接触面长度 (m)\n",
    "S_instrument = 1.0  # 中间仪器固定板接触面积 (m^2)\n",
    "# 活动防沉板参数\n",
    "B1_movable = 0.56  # 活动防沉板接触面宽度 (m)\n",
    "L1_movable = 0.56  # 活动防沉板接触面长度 (m)\n",
    "# 初始化活动防沉板配置块数（通过改变数量计算）\n",
    "num_blocks_movable = 0\n",
    "def calculate_Nc(B1, L1):\n",
    "    return 5.0 * (1 + 0.2 * H / B1) * (1 + 0.2 * B1 / L1)\n",
    "def calculate_Q(B1, L1, S):\n",
    "    Nc = calculate_Nc(B1, L1)\n",
    "    return (C * Nc + gamma1 * H) * S\n",
    "def calculate_total_capacity(num_blocks_movable):\n",
    "    Q_fixed = calculate_Q(B1_fixed, L1_fixed, S_fixed) * 4\n",
    "    Q_instrument = calculate_Q(B1_instrument, L1_instrument, S_instrument)\n",
    "    Q_movable = calculate_Q(B1_movable, L1_movable, S_fixed )* num_blocks_movable\n",
    "    total_capacity = Q_fixed + Q_instrument + Q_movable\n",
    "    return total_capacity\n",
    "\n",
    "\n",
    "# 打印结果\n",
    "print(\"总承载力:\", calculate_total_capacity(num_blocks_movable), \"N\")\n"
   ]
  },
  {
   "cell_type": "markdown",
   "id": "5ab07cc1",
   "metadata": {},
   "source": [
    "# 缆绳选择\n"
   ]
  },
  {
   "cell_type": "code",
   "execution_count": 8,
   "id": "d104d244",
   "metadata": {},
   "outputs": [
    {
     "name": "stdout",
     "output_type": "stream",
     "text": [
      "最小起吊拉力(N)： 12740.000000000002\n"
     ]
    }
   ],
   "source": [
    "### 最小起吊拉力\n",
    "Fmin = M * g\n",
    "print(\"最小起吊拉力(N)：\", Fmin)"
   ]
  },
  {
   "cell_type": "code",
   "execution_count": 9,
   "id": "bd4612c7",
   "metadata": {},
   "outputs": [
    {
     "name": "stdout",
     "output_type": "stream",
     "text": [
      "固定防沉板吸附力（N）: 24410.458574786757\n",
      "中间仪器固定板吸附力（N）: 20086.365410283473\n",
      "活动防沉板吸附力（N）: 0.0\n",
      "总吸附力（N）: 44496.82398507023\n"
     ]
    }
   ],
   "source": [
    "import math\n",
    "\n",
    "# 常量定义\n",
    "C_sediment = Shear_strength * 1000  # 沉积物抗剪强度 (Pa)，将kPa转换为Pa\n",
    "D_depth = 0.06  # 结构物在底质中的浸没深度 (m)\n",
    "S_fixed = 1.2  # 固定防沉板接触面积 (m^2)\n",
    "t_fixed = 0.01  # 防沉板的厚度 (m)\n",
    "# 计算沉积物对平台的总吸附力\n",
    "def calculate_total_adhesion_force(B, L, S, t):\n",
    "    De = D_depth * math.exp(math.sqrt(D_depth))\n",
    "    SR = S\n",
    "    Sp = S\n",
    "    adhesion_force = 5 * S * C_sediment * (1.0 + 0.2 * De / B) * (1.0 + 0.2 * B / L) * math.sin(math.pi * SR / (2 * Sp))\n",
    "\n",
    "    return adhesion_force\n",
    "# 固定防沉板参数\n",
    "B_fixed = 0.56  # 固定防沉板接触面宽度 (m)\n",
    "L_fixed = 0.56  # 固定防沉板接触面长度 (m)\n",
    "adhesion_force_fixed = calculate_total_adhesion_force(B_fixed, L_fixed, S_fixed, t_fixed)\n",
    "# 中间仪器固定板参数\n",
    "B1_instrument = 1.06  # 中间仪器固定板接触面宽度 (m)\n",
    "L1_instrument = 1.06  # 中间仪器固定板接触面长度 (m)\n",
    "S_instrument = 1.0  # 中间仪器固定板接触面积 (m^2)\n",
    "adhesion_force_instrument = calculate_total_adhesion_force(B1_instrument, L1_instrument, S_instrument, t_fixed)\n",
    "# 活动防沉板参数\n",
    "B1_movable = 0.56  # 活动防沉板接触面宽度 (m)\n",
    "L1_movable = 0.56  # 活动防沉板接触面长度 (m)\n",
    "# 初始化活动防沉板配置块数\n",
    "num_blocks_movable = 0\n",
    "adhesion_force_movable = calculate_total_adhesion_force(B1_movable, L1_movable, S_fixed, t_fixed) * num_blocks_movable\n",
    "total_adhesion_force = adhesion_force_fixed + adhesion_force_instrument + adhesion_force_movable\n",
    "print(\"固定防沉板吸附力（N）:\", adhesion_force_fixed)\n",
    "print(\"中间仪器固定板吸附力（N）:\", adhesion_force_instrument)\n",
    "print(\"活动防沉板吸附力（N）:\", adhesion_force_movable)\n",
    "print(\"总吸附力（N）:\", total_adhesion_force)"
   ]
  },
  {
   "cell_type": "code",
   "execution_count": 10,
   "id": "29c032ee",
   "metadata": {},
   "outputs": [
    {
     "name": "stdout",
     "output_type": "stream",
     "text": [
      "回收最小拉力(N)： 57236.82398507023\n"
     ]
    }
   ],
   "source": [
    "Fmax = Fmin + total_adhesion_force\n",
    "print(\"回收最小拉力(N)：\", Fmax)"
   ]
  },
  {
   "cell_type": "markdown",
   "id": "a8d054ac",
   "metadata": {},
   "source": [
    "## 最后别忘记选缆绳哦\n",
    "## 缆绳选择按稍大于回收最小拉力的就行"
   ]
  },
  {
   "cell_type": "code",
   "execution_count": null,
   "id": "30e25f57",
   "metadata": {},
   "outputs": [],
   "source": []
  }
 ],
 "metadata": {
  "kernelspec": {
   "display_name": "Python (blip)",
   "language": "python",
   "name": "blip"
  },
  "language_info": {
   "codemirror_mode": {
    "name": "ipython",
    "version": 3
   },
   "file_extension": ".py",
   "mimetype": "text/x-python",
   "name": "python",
   "nbconvert_exporter": "python",
   "pygments_lexer": "ipython3",
   "version": "3.8.20"
  }
 },
 "nbformat": 4,
 "nbformat_minor": 5
}
